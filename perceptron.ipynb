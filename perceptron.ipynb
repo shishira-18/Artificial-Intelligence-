{
 "cells": [
  {
   "cell_type": "markdown",
   "metadata": {},
   "source": [
    "### Import Libraries"
   ]
  },
  {
   "cell_type": "code",
   "execution_count": 328,
   "metadata": {},
   "outputs": [],
   "source": [
    "import numpy as np\n",
    "import pandas as pd\n",
    "\n",
    "import matplotlib.pyplot as plt"
   ]
  },
  {
   "cell_type": "markdown",
   "metadata": {},
   "source": [
    "### Load data"
   ]
  },
  {
   "cell_type": "code",
   "execution_count": 329,
   "metadata": {},
   "outputs": [],
   "source": [
    "input = np.array([[0,0],[0,1],[1,0],[1,1]])\n",
    "output = np.array([0,1,1,1])"
   ]
  },
  {
   "cell_type": "code",
   "execution_count": 330,
   "metadata": {},
   "outputs": [],
   "source": [
    "data = pd.DataFrame(input,columns=['X1','X2'])\n",
    "data['output'] = pd.DataFrame(output,columns=['Y'])\n",
    "df =data"
   ]
  },
  {
   "cell_type": "code",
   "execution_count": 331,
   "metadata": {},
   "outputs": [
    {
     "data": {
      "text/html": [
       "<div>\n",
       "<style scoped>\n",
       "    .dataframe tbody tr th:only-of-type {\n",
       "        vertical-align: middle;\n",
       "    }\n",
       "\n",
       "    .dataframe tbody tr th {\n",
       "        vertical-align: top;\n",
       "    }\n",
       "\n",
       "    .dataframe thead th {\n",
       "        text-align: right;\n",
       "    }\n",
       "</style>\n",
       "<table border=\"1\" class=\"dataframe\">\n",
       "  <thead>\n",
       "    <tr style=\"text-align: right;\">\n",
       "      <th></th>\n",
       "      <th>X1</th>\n",
       "      <th>X2</th>\n",
       "      <th>output</th>\n",
       "    </tr>\n",
       "  </thead>\n",
       "  <tbody>\n",
       "    <tr>\n",
       "      <th>0</th>\n",
       "      <td>0</td>\n",
       "      <td>0</td>\n",
       "      <td>0</td>\n",
       "    </tr>\n",
       "    <tr>\n",
       "      <th>1</th>\n",
       "      <td>0</td>\n",
       "      <td>1</td>\n",
       "      <td>1</td>\n",
       "    </tr>\n",
       "    <tr>\n",
       "      <th>2</th>\n",
       "      <td>1</td>\n",
       "      <td>0</td>\n",
       "      <td>1</td>\n",
       "    </tr>\n",
       "    <tr>\n",
       "      <th>3</th>\n",
       "      <td>1</td>\n",
       "      <td>1</td>\n",
       "      <td>1</td>\n",
       "    </tr>\n",
       "  </tbody>\n",
       "</table>\n",
       "</div>"
      ],
      "text/plain": [
       "   X1  X2  output\n",
       "0   0   0       0\n",
       "1   0   1       1\n",
       "2   1   0       1\n",
       "3   1   1       1"
      ]
     },
     "execution_count": 331,
     "metadata": {},
     "output_type": "execute_result"
    }
   ],
   "source": [
    "df"
   ]
  },
  {
   "cell_type": "markdown",
   "metadata": {},
   "source": [
    "### Exploratory Data Analysis"
   ]
  },
  {
   "cell_type": "code",
   "execution_count": 332,
   "metadata": {},
   "outputs": [
    {
     "name": "stdout",
     "output_type": "stream",
     "text": [
      "<class 'pandas.core.frame.DataFrame'>\n",
      "RangeIndex: 4 entries, 0 to 3\n",
      "Data columns (total 3 columns):\n",
      " #   Column  Non-Null Count  Dtype\n",
      "---  ------  --------------  -----\n",
      " 0   X1      4 non-null      int64\n",
      " 1   X2      4 non-null      int64\n",
      " 2   output  4 non-null      int64\n",
      "dtypes: int64(3)\n",
      "memory usage: 224.0 bytes\n"
     ]
    }
   ],
   "source": [
    "df.info()"
   ]
  },
  {
   "cell_type": "code",
   "execution_count": 333,
   "metadata": {},
   "outputs": [
    {
     "data": {
      "image/png": "[encoded data removed]",
      "text/plain": [
       "<Figure size 640x480 with 1 Axes>"
      ]
     },
     "metadata": {},
     "output_type": "display_data"
    }
   ],
   "source": [
    "colors = ['red' if output == 0 else 'green' for output in df['output']]\n",
    "plt.scatter(df['X1'],df['X2'],c=colors,s=200, edgecolor='k')\n",
    "plt.xlabel('X1')\n",
    "plt.ylabel('X2')\n",
    "plt.title('Scatter Plot of OR Gate Inputs and Outputs')\n",
    "\n",
    "plt.show()"
   ]
  },
  {
   "cell_type": "markdown",
   "metadata": {},
   "source": [
    "# Perceptron \n",
    "\n",
    "## Model Output\n",
    "The perceptron output is given by:\n",
    "$$\n",
    "p = w_1 x_1 + w_2 x_2 + b\n",
    "$$\n",
    "\n",
    "\n",
    "## Predicted Probability\n",
    "Using the sigmoid function:\n",
    "$$\n",
    "\\hat{y} = \\sigma(p) = \\frac{1}{1 + e^{-p}}\n",
    "$$\n",
    "\n",
    "\n",
    "## Binary Cross-Entropy Loss\n",
    "The Binary Cross-Entropy loss for a single instance is:\n",
    "$$\n",
    "\\text{BCE}(y, \\hat{y}) = -\\left[ y \\log(\\hat{y}) + (1 - y) \\log(1 - \\hat{y}) \\right]\n",
    "$$\n",
    "\n",
    "\n",
    "## Gradients with Respect to Weights and Bias\n",
    "\n",
    "1. **Gradient with Respect to Weight \\( w_1 \\)**:\n",
    "   $$\n",
    "   \\frac{\\partial \\text{BCE}}{\\partial w_1} = -(y - \\hat{y}) x_1\n",
    "   $$\n",
    "\n",
    "2. **Gradient with Respect to Weight \\( w_2 \\)**:\n",
    "   $$\n",
    "   \\frac{\\partial \\text{BCE}}{\\partial w_2} = -(y - \\hat{y}) x_2\n",
    "   $$\n",
    "\n",
    "3. **Gradient with Respect to Bias \\( b \\)**:\n",
    "   $$\n",
    "   \\frac{\\partial \\text{BCE}}{\\partial b} = -(y - \\hat{y})\n",
    "   $$\n",
    "\n",
    "## Updating Weights and Biases\n",
    "You can update your weights and bias using gradient descent as follows:\n",
    "\n",
    "- For each weight:\n",
    "  $$\n",
    "  w_j := w_j - η \\frac{\\partial \\text{BCE}}{\\partial w_j}\n",
    "  $$\n",
    "\n",
    "- For bias:\n",
    "  $$\n",
    "  b := b - η \\frac{\\partial \\text{BCE}}{\\partial b}\n",
    "  $$\n",
    "\n",
    "**Where:**\n",
    "- \\( η \\) is the learning rate."
   ]
  },
  {
   "cell_type": "code",
   "execution_count": 334,
   "metadata": {},
   "outputs": [],
   "source": [
    "class Perceptron:\n",
    "    def __init__(self,my_weights,my_bias,learning_rate=0.5) -> None:\n",
    "        self.weights = my_weights\n",
    "        self.bias = my_bias\n",
    "        self.learning_rate = learning_rate\n",
    "        self.loss = []\n",
    "    \n",
    "    def activation(self,net):\n",
    "        answer =1 if net > 0 else 0\n",
    "        return answer\n",
    "    \n",
    "    def neuron(self,inputs):\n",
    "        neuron_architecture = np.dot(self.weights,inputs) + self.bias\n",
    "        return neuron_architecture\n",
    "    \n",
    "    def neuron_propagate(self,inputs):\n",
    "        processing = self.neuron(inputs)\n",
    "        return self.activation(processing)\n",
    "    \n",
    "    def dL_dw(self,x,y_actual,y_predicted):\n",
    "        return -1 * np.dot(( y_actual - y_predicted), x)\n",
    "        \n",
    "        \n",
    "    def dL_db(self,y_actual,y_predicted):\n",
    "        return -1 * ( y_actual - y_predicted) \n",
    "        \n",
    "        \n",
    "        \n",
    "    \n",
    "    def training(self,inputs,output):\n",
    "        total_loss = 0\n",
    "        no_of_samples = inputs.shape[0]\n",
    "        for inp,outp in zip(inputs.values,output.values):\n",
    "            y_cap = self.neuron_propagate(inputs=inp)\n",
    "            \n",
    "            \n",
    "            self.weights   =    [ W  - self.learning_rate * self.dL_dw(X,outp,y_cap)  for (W,X) in zip(self.weights,inp)]\n",
    "            \n",
    "            \n",
    "            self.bias      =     self.bias - self.learning_rate * self.dL_db(outp,y_cap)\n",
    "            \n",
    "            y_cap = y_cap = np.clip(y_cap, 1e-10, 1 - 1e-10)\n",
    "            \n",
    "            loss = -1 * (outp * np.log2(y_cap) + (1 - outp) * np.log2(1 - y_cap))\n",
    "            self.loss.append(loss)\n",
    "            total_loss += loss\n",
    "            \n",
    "        return total_loss / no_of_samples\n",
    "            \n",
    "    def predict(self,inputs):\n",
    "            return [self.neuron_propagate(inp) for inp in inputs.values]\n",
    "            \n",
    "        \n",
    "            \n",
    "    \n",
    "    \n",
    "        "
   ]
  },
  {
   "cell_type": "markdown",
   "metadata": {},
   "source": [
    "### Initialize weights and biases (Hyperparameter-tuning)"
   ]
  },
  {
   "cell_type": "code",
   "execution_count": 335,
   "metadata": {},
   "outputs": [],
   "source": [
    "InitialWeights = [0,0]\n",
    "InitialBias = 0\n",
    "LearningRate = 0.1"
   ]
  },
  {
   "cell_type": "code",
   "execution_count": 336,
   "metadata": {},
   "outputs": [],
   "source": [
    "SLperceptron = Perceptron(InitialWeights,InitialBias,LearningRate)"
   ]
  },
  {
   "cell_type": "markdown",
   "metadata": {},
   "source": [
    "### Train your Perceptron"
   ]
  },
  {
   "cell_type": "code",
   "execution_count": 337,
   "metadata": {},
   "outputs": [],
   "source": [
    "loss = []\n",
    "for i in range(100):\n",
    "    loss.append(SLperceptron.training(df[['X1','X2']],df['output']))"
   ]
  },
  {
   "cell_type": "markdown",
   "metadata": {},
   "source": [
    "### prediction"
   ]
  },
  {
   "cell_type": "code",
   "execution_count": 338,
   "metadata": {},
   "outputs": [
    {
     "data": {
      "text/plain": [
       "[0, 1, 1, 1]"
      ]
     },
     "execution_count": 338,
     "metadata": {},
     "output_type": "execute_result"
    }
   ],
   "source": [
    "SLperceptron.predict(df[['X1','X2']])"
   ]
  },
  {
   "cell_type": "markdown",
   "metadata": {},
   "source": [
    "### Learning curve"
   ]
  },
  {
   "cell_type": "code",
   "execution_count": 339,
   "metadata": {},
   "outputs": [
    {
     "data": {
      "text/plain": [
       "[<matplotlib.lines.Line2D at 0x738acc5d78d0>]"
      ]
     },
     "execution_count": 339,
     "metadata": {},
     "output_type": "execute_result"
    },
    {
     "data": {
      "image/png": "[encoded data removed]",
      "text/plain": [
       "<Figure size 640x480 with 1 Axes>"
      ]
     },
     "metadata": {},
     "output_type": "display_data"
    }
   ],
   "source": [
    "plt.plot(loss)"
   ]
  }
 ],
 "metadata": {
  "kernelspec": {
   "display_name": "tensorflow_env",
   "language": "python",
   "name": "python3"
  },
  "language_info": {
   "codemirror_mode": {
    "name": "ipython",
    "version": 3
   },
   "file_extension": ".py",
   "mimetype": "text/x-python",
   "name": "python",
   "nbconvert_exporter": "python",
   "pygments_lexer": "ipython3",
   "version": "3.7.12"
  }
 },
 "nbformat": 4,
 "nbformat_minor": 2
}
